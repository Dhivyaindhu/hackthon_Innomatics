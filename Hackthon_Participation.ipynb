{
  "nbformat": 4,
  "nbformat_minor": 0,
  "metadata": {
    "colab": {
      "provenance": [],
      "authorship_tag": "ABX9TyMbASrUZlZqgXtB1eqFsh5w",
      "include_colab_link": true
    },
    "kernelspec": {
      "name": "python3",
      "display_name": "Python 3"
    },
    "language_info": {
      "name": "python"
    }
  },
  "cells": [
    {
      "cell_type": "markdown",
      "metadata": {
        "id": "view-in-github",
        "colab_type": "text"
      },
      "source": [
        "<a href=\"https://colab.research.google.com/github/Dhivyaindhu/hackthon_Innomatics/blob/main/Hackthon_Participation.ipynb\" target=\"_parent\"><img src=\"https://colab.research.google.com/assets/colab-badge.svg\" alt=\"Open In Colab\"/></a>"
      ]
    },
    {
      "cell_type": "code",
      "execution_count": 3,
      "metadata": {
        "colab": {
          "base_uri": "https://localhost:8080/"
        },
        "id": "SYtjdCe3mEdO",
        "outputId": "528ddf87-fa6a-4568-ad02-7ee193fac81f"
      },
      "outputs": [
        {
          "output_type": "stream",
          "name": "stdout",
          "text": [
            "  online_order book_table   rate  votes            rest_type  \\\n",
            "0          Yes        Yes  4.1/5    775        Casual Dining   \n",
            "1          Yes         No  4.1/5    787        Casual Dining   \n",
            "2          Yes         No  3.8/5    918  Cafe, Casual Dining   \n",
            "3           No         No  3.7/5     88          Quick Bites   \n",
            "4           No         No  3.8/5    166        Casual Dining   \n",
            "\n",
            "                                          dish_liked  \\\n",
            "0  Pasta, Lunch Buffet, Masala Papad, Paneer Laja...   \n",
            "1  Momos, Lunch Buffet, Chocolate Nirvana, Thai G...   \n",
            "2  Churros, Cannelloni, Minestrone Soup, Hot Choc...   \n",
            "3                                        Masala Dosa   \n",
            "4                                Panipuri, Gol Gappe   \n",
            "\n",
            "                         cuisines approx_costfor_two_people listed_intype  \\\n",
            "0  North Indian, Mughlai, Chinese                       800        Buffet   \n",
            "1     Chinese, North Indian, Thai                       800        Buffet   \n",
            "2          Cafe, Mexican, Italian                       800        Buffet   \n",
            "3      South Indian, North Indian                       300        Buffet   \n",
            "4        North Indian, Rajasthani                       600        Buffet   \n",
            "\n",
            "  listed_incity  \n",
            "0  Banashankari  \n",
            "1  Banashankari  \n",
            "2  Banashankari  \n",
            "3  Banashankari  \n",
            "4  Banashankari  \n",
            "(51717, 10)\n",
            "North Indian: 21085\n",
            "Chinese: 15547\n",
            "South Indian: 8644\n",
            "Fast Food: 8096\n",
            "Biryani: 6492\n",
            "Continental: 5765\n",
            "Desserts: 5633\n",
            "Cafe: 5303\n",
            "Beverages: 4747\n",
            "Italian: 3389\n"
          ]
        }
      ],
      "source": [
        "import numpy as np\n",
        "import pandas as pd\n",
        "data=pd.read_csv('/content/zomato_data.csv')\n",
        "print(data.head())\n",
        "print(data.shape)\n",
        "df = data.dropna(subset=['cuisines'])\n",
        "\n",
        "# Split multiple cuisines and count frequency\n",
        "from collections import Counter\n",
        "\n",
        "# Create a list of all cuisines\n",
        "cuisine_list = df['cuisines'].str.split(', ').sum()\n",
        "cuisine_counts = Counter(cuisine_list)\n",
        "\n",
        "# Get the most common cuisines\n",
        "most_common_cuisines = cuisine_counts.most_common(10)\n",
        "\n",
        "# Display the top cuisines\n",
        "for cuisine, count in most_common_cuisines:\n",
        "    print(f\"{cuisine}: {count}\")"
      ]
    },
    {
      "cell_type": "code",
      "source": [
        "import pandas as pd\n",
        "\n",
        "# Load the dataset\n",
        "df = pd.read_csv(\"/content/zomato_data.csv\", encoding=\"latin-1\")\n",
        "\n",
        "# Filter only online orders\n",
        "online_orders = df[df['online_order'] == 'Yes']\n",
        "\n",
        "# Total online orders\n",
        "total_online = len(online_orders)\n",
        "\n",
        "# Online orders in Banashankari\n",
        "banashankari_online = online_orders[online_orders['listed_incity'] == 'Banashankari']\n",
        "banashankari_count = len(banashankari_online)\n",
        "\n",
        "# Calculate percentage\n",
        "percentage = (banashankari_count / total_online) * 100\n",
        "\n",
        "print(f\"Banashankari receives {percentage:.2f}% of all online orders.\")\n"
      ],
      "metadata": {
        "colab": {
          "base_uri": "https://localhost:8080/"
        },
        "id": "ietscVsGquuB",
        "outputId": "7da41f58-f416-4058-cde7-22bef29bc442"
      },
      "execution_count": 7,
      "outputs": [
        {
          "output_type": "stream",
          "name": "stdout",
          "text": [
            "Banashankari receives 1.79% of all online orders.\n"
          ]
        }
      ]
    },
    {
      "cell_type": "code",
      "source": [
        "import pandas as pd\n",
        "\n",
        "# Load the dataset\n",
        "df = pd.read_csv(\"/content/zomato_data.csv\", encoding=\"latin-1\")\n",
        "\n",
        "# Clean up whitespaces and casing (optional but recommended)\n",
        "df['online_order'] = df['online_order'].str.strip().str.lower()\n",
        "df['listed_incity'] = df['listed_incity'].str.strip().str.lower()\n",
        "\n",
        "# Filter only online orders\n",
        "online_orders = df[df['online_order'] == 'yes']\n",
        "\n",
        "# Total online orders\n",
        "total_online = len(online_orders)\n",
        "\n",
        "# Online orders in Banashankari\n",
        "banashankari_online = online_orders[online_orders['listed_incity'] == 'banashankari']\n",
        "banashankari_count = len(banashankari_online)\n",
        "\n",
        "# Calculate percentage\n",
        "percentage = (banashankari_count / total_online) * 100\n",
        "\n",
        "print(f\"Banashankari receives {percentage:.2f}% of all online orders.\")\n"
      ],
      "metadata": {
        "colab": {
          "base_uri": "https://localhost:8080/"
        },
        "id": "OGVVQzKdz62j",
        "outputId": "af5f0cb0-0309-4c49-c2a5-408bef538a1e"
      },
      "execution_count": 8,
      "outputs": [
        {
          "output_type": "stream",
          "name": "stdout",
          "text": [
            "Banashankari receives 1.79% of all online orders.\n"
          ]
        }
      ]
    },
    {
      "cell_type": "code",
      "source": [
        "import pandas as pd\n",
        "\n",
        "# Load the dataset\n",
        "df = pd.read_csv('/content/zomato_data.csv', encoding='latin-1')\n",
        "\n",
        "# Clean whitespace\n",
        "df['listed_incity'] = df['listed_incity'].str.strip()\n",
        "df['rest_type'] = df['rest_type'].str.strip()\n",
        "\n",
        "# Group by locality and count unique restaurant types\n",
        "diversity = df.groupby('listed_incity')['rest_type'].nunique().sort_values(ascending=False)\n",
        "\n",
        "# Show top 5 diverse localities\n",
        "print(\"Top localities by restaurant type diversity:\")\n",
        "print(diversity.head())\n",
        "\n",
        "# If you want to check specific options given in MCQ:\n",
        "options = ['Brigade Road', 'BTM', 'Bannerghatta Road', 'Brookefield']\n",
        "for opt in options:\n",
        "    count = diversity.get(opt, 0)\n",
        "    print(f\"{opt}: {count} unique restaurant types\")\n"
      ],
      "metadata": {
        "colab": {
          "base_uri": "https://localhost:8080/"
        },
        "id": "IQkb9ahi3-3J",
        "outputId": "0f2f31c1-ec9f-4529-da5a-a8c85f47be0f"
      },
      "execution_count": 9,
      "outputs": [
        {
          "output_type": "stream",
          "name": "stdout",
          "text": [
            "Top localities by restaurant type diversity:\n",
            "listed_incity\n",
            "BTM              61\n",
            "Brigade Road     60\n",
            "Church Street    60\n",
            "Lavelle Road     58\n",
            "MG Road          58\n",
            "Name: rest_type, dtype: int64\n",
            "Brigade Road: 60 unique restaurant types\n",
            "BTM: 61 unique restaurant types\n",
            "Bannerghatta Road: 46 unique restaurant types\n",
            "Brookefield: 49 unique restaurant types\n"
          ]
        }
      ]
    },
    {
      "cell_type": "code",
      "source": [
        "import pandas as pd\n",
        "\n",
        "# Load the dataset\n",
        "df = pd.read_csv('/content/zomato_data.csv', encoding='latin-1')\n",
        "\n",
        "# Clean and prepare the cost column\n",
        "df['approx_costfor_two_people'] = df['approx_costfor_two_people'].astype(str)\n",
        "df['approx_costfor_two_people'] = df['approx_costfor_two_people'].str.replace(',', '')\n",
        "df['approx_costfor_two_people'] = pd.to_numeric(df['approx_costfor_two_people'], errors='coerce')\n",
        "\n",
        "# Standardize rest_type for filtering\n",
        "df['rest_type'] = df['rest_type'].str.strip().str.lower()\n",
        "\n",
        "# Filter buffet and delivery restaurants\n",
        "buffet_df = df[df['rest_type'].str.contains('buffet', na=False)]\n",
        "delivery_df = df[df['rest_type'].str.contains('delivery', na=False)]\n",
        "\n",
        "# Calculate average costs\n",
        "avg_buffet = buffet_df['approx_costfor_two_people'].mean()\n",
        "avg_delivery = delivery_df['approx_costfor_two_people'].mean()\n",
        "\n",
        "# Calculate difference\n",
        "cost_difference = avg_buffet - avg_delivery\n",
        "\n",
        "print(f\"Average Buffet Cost: ₹{avg_buffet:.2f}\")\n",
        "print(f\"Average Delivery Cost: ₹{avg_delivery:.2f}\")\n",
        "print(f\"Average Cost Difference: ₹{cost_difference:.2f}\")\n"
      ],
      "metadata": {
        "colab": {
          "base_uri": "https://localhost:8080/"
        },
        "id": "_EtEnrdP6Zh8",
        "outputId": "69d629d3-c084-4c4a-9640-8ca461a34c3a"
      },
      "execution_count": 12,
      "outputs": [
        {
          "output_type": "stream",
          "name": "stdout",
          "text": [
            "Average Buffet Cost: ₹nan\n",
            "Average Delivery Cost: ₹415.05\n",
            "Average Cost Difference: ₹nan\n"
          ]
        }
      ]
    },
    {
      "cell_type": "code",
      "source": [
        "\n",
        "import pandas as pd\n",
        "\n",
        "# Load the dataset\n",
        "df = pd.read_csv('/content/zomato_data.csv', encoding='latin-1')\n",
        "\n",
        "# Clean the cost column\n",
        "df['approx_costfor_two_people'] = df['approx_costfor_two_people'].astype(str)\n",
        "df['approx_costfor_two_people'] = df['approx_costfor_two_people'].str.replace(',', '')\n",
        "df['approx_costfor_two_people'] = pd.to_numeric(df['approx_costfor_two_people'], errors='coerce')\n",
        "\n",
        "# Standardize rest_type for filtering\n",
        "df['rest_type'] = df['rest_type'].str.strip().str.lower()\n",
        "\n",
        "# Filter buffet and delivery restaurants\n",
        "buffet_df = df[df['rest_type'].str.contains('buffet', na=False)].copy()\n",
        "delivery_df = df[df['rest_type'].str.contains('delivery', na=False)].copy()\n",
        "\n",
        "# Check for non-null values before proceeding\n",
        "valid_buffet = buffet_df['approx_costfor_two_people'].dropna()\n",
        "valid_delivery = delivery_df['approx_costfor_two_people'].dropna()\n",
        "\n",
        "# Check counts\n",
        "print(f\"Valid Buffet Entries: {len(valid_buffet)}\")\n",
        "print(f\"Valid Delivery Entries: {len(valid_delivery)}\")\n",
        "\n",
        "# Calculate averages only if data exists\n",
        "if len(valid_buffet) > 0 and len(valid_delivery) > 0:\n",
        "    avg_buffet = valid_buffet.mean()\n",
        "    avg_delivery = valid_delivery.mean()\n",
        "    cost_difference = avg_buffet - avg_delivery\n",
        "\n",
        "    print(f\"Average Buffet Cost: ₹{avg_buffet:.2f}\")\n",
        "    print(f\"Average Delivery Cost: ₹{avg_delivery:.2f}\")\n",
        "    print(f\"Average Cost Difference: ₹{cost_difference:.2f}\")\n",
        "\n",
        "    # Choose closest option\n",
        "    if 200 <= cost_difference < 300:\n",
        "        print(\"✔ Closest Option: ₹200-300\")\n",
        "    elif 500 <= cost_difference < 600:\n",
        "        print(\"✔ Closest Option: ₹500-600\")\n",
        "    elif 700 <= cost_difference < 800:\n",
        "        print(\"✔ Closest Option: ₹700-800\")\n",
        "    elif 800 <= cost_difference < 900:\n",
        "        print(\"✔ Closest Option: ₹800-₹900\")\n",
        "    else:\n",
        "        print(\"❌ No matching option found.\")\n",
        "else:\n",
        "    print(\"⚠ Buffet or Delivery category has no valid cost data.\")\n"
      ],
      "metadata": {
        "colab": {
          "base_uri": "https://localhost:8080/"
        },
        "id": "1Zm2AwB-8-3O",
        "outputId": "dc8f2568-6987-4886-cae0-a87b4b5ea459"
      },
      "execution_count": 16,
      "outputs": [
        {
          "output_type": "stream",
          "name": "stdout",
          "text": [
            "Valid Buffet Entries: 0\n",
            "Valid Delivery Entries: 4603\n",
            "⚠ Buffet or Delivery category has no valid cost data.\n"
          ]
        }
      ]
    }
  ]
}